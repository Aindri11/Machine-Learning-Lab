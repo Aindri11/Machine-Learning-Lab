{
  "nbformat": 4,
  "nbformat_minor": 0,
  "metadata": {
    "colab": {
      "provenance": [],
      "include_colab_link": true
    },
    "kernelspec": {
      "name": "python3",
      "display_name": "Python 3"
    },
    "language_info": {
      "name": "python"
    },
    "accelerator": "GPU"
  },
  "cells": [
    {
      "cell_type": "markdown",
      "metadata": {
        "id": "view-in-github",
        "colab_type": "text"
      },
      "source": [
        "<a href=\"https://colab.research.google.com/github/Aindri11/Machine-Learning-Lab/blob/main/Image_Classification_using_ANN_.ipynb\" target=\"_parent\"><img src=\"https://colab.research.google.com/assets/colab-badge.svg\" alt=\"Open In Colab\"/></a>"
      ]
    },
    {
      "cell_type": "markdown",
      "metadata": {
        "id": "JT4a4dwlqhsd"
      },
      "source": [
        "# Joint Online Faculty Development programme on Deep Learning (Parallel Architecture) Aug 23 – Sep 3 , 2021"
      ]
    },
    {
      "cell_type": "markdown",
      "metadata": {
        "id": "XwMdAK1XqmPI"
      },
      "source": [
        "# Tutorial 4: Covid 19 Prediction using Artificial Neural Networks"
      ]
    },
    {
      "cell_type": "markdown",
      "metadata": {
        "id": "y9dbM1bxjvnU"
      },
      "source": [
        "Dataset: [Covid 19 Chest X-ray dataset](https://www.kaggle.com/tawsifurrahman/covid19-radiography-database)\n",
        "\n",
        "\n",
        "A team of researchers from Qatar University, Doha, Qatar, and the University of Dhaka, Bangladesh along with their collaborators from Pakistan and Malaysia in collaboration with medical doctors have created a database of chest X-ray images for COVID-19 positive cases along with Normal and Viral Pneumonia images. This COVID-19, normal, and other lung infection dataset is released in stages. In the first release, we have released 219 COVID-19, 1341 normal, and 1345 viral pneumonia chest X-ray (CXR) images. In the first update, we have increased the COVID-19 class to 1200 CXR images. In the 2nd update, we have increased the database to 3616 COVID-19 positive cases along with 10,192 Normal, 6012 Lung Opacity (Non-COVID lung infection), and 1345 Viral Pneumonia images. We will continue to update this database as soon as we have new x-ray images for COVID-19 pneumonia patients.\n",
        "\n"
      ]
    },
    {
      "cell_type": "markdown",
      "metadata": {
        "id": "9mHnC6nNtBK1"
      },
      "source": [
        "**1. Mount the Google Drive**"
      ]
    },
    {
      "cell_type": "code",
      "metadata": {
        "id": "gORvsC4_s_fY",
        "colab": {
          "base_uri": "https://localhost:8080/"
        },
        "outputId": "b69195c3-4cb3-4f0b-ef3d-677de7523ad1"
      },
      "source": [
        "from google.colab import drive\n",
        "drive.mount('/content/drive')"
      ],
      "execution_count": null,
      "outputs": [
        {
          "output_type": "stream",
          "name": "stdout",
          "text": [
            "Mounted at /content/drive\n"
          ]
        }
      ]
    },
    {
      "cell_type": "markdown",
      "metadata": {
        "id": "wiZOocimtGeu"
      },
      "source": [
        "**2. Move to the place where data resides**"
      ]
    },
    {
      "cell_type": "code",
      "metadata": {
        "id": "EdbGFIkPlah9"
      },
      "source": [
        "!cd /content/drive/MyDrive/CSIT1/"
      ],
      "execution_count": 2,
      "outputs": []
    },
    {
      "cell_type": "code",
      "source": [
        "!pwd\n"
      ],
      "metadata": {
        "colab": {
          "base_uri": "https://localhost:8080/"
        },
        "id": "4DnwwyuhBGTf",
        "outputId": "8eed25e7-8514-45f6-9270-dd55e3ab0305"
      },
      "execution_count": 3,
      "outputs": [
        {
          "output_type": "stream",
          "name": "stdout",
          "text": [
            "/content\n"
          ]
        }
      ]
    },
    {
      "cell_type": "code",
      "metadata": {
        "id": "lqViJFpyjxJZ",
        "colab": {
          "base_uri": "https://localhost:8080/"
        },
        "outputId": "0000c255-d5a4-4885-8f5e-51469d0c8786"
      },
      "source": [
        "!ls"
      ],
      "execution_count": 4,
      "outputs": [
        {
          "output_type": "stream",
          "name": "stdout",
          "text": [
            "drive  sample_data\n"
          ]
        }
      ]
    },
    {
      "cell_type": "markdown",
      "metadata": {
        "id": "0e8v2RY-tKUs"
      },
      "source": [
        "**3. Unziping the dataset**"
      ]
    },
    {
      "cell_type": "code",
      "source": [
        "!pip install unzip"
      ],
      "metadata": {
        "colab": {
          "base_uri": "https://localhost:8080/"
        },
        "id": "PYfX_i50jzOc",
        "outputId": "a6e6767b-331d-41a0-c774-fa0ee92c4929"
      },
      "execution_count": 5,
      "outputs": [
        {
          "output_type": "stream",
          "name": "stdout",
          "text": [
            "Collecting unzip\n",
            "  Downloading unzip-1.0.0.tar.gz (704 bytes)\n",
            "  Preparing metadata (setup.py) ... \u001b[?25l\u001b[?25hdone\n",
            "Building wheels for collected packages: unzip\n",
            "  Building wheel for unzip (setup.py) ... \u001b[?25l\u001b[?25hdone\n",
            "  Created wheel for unzip: filename=unzip-1.0.0-py3-none-any.whl size=1283 sha256=24f4364836458b19c439c432f78a1da30e73d1b2dcb638c502b3412562a30b94\n",
            "  Stored in directory: /root/.cache/pip/wheels/80/dc/7a/f8af45bc239e7933509183f038ea8d46f3610aab82b35369f4\n",
            "Successfully built unzip\n",
            "Installing collected packages: unzip\n",
            "Successfully installed unzip-1.0.0\n"
          ]
        }
      ]
    },
    {
      "cell_type": "code",
      "metadata": {
        "id": "kOWDshT6lb8K",
        "colab": {
          "base_uri": "https://localhost:8080/"
        },
        "outputId": "6451e37f-064d-473a-f4a3-27167587dfc2"
      },
      "source": [
        "!unzip  /content/drive/MyDrive/CSIT1/covid_dataset.zip"
      ],
      "execution_count": 6,
      "outputs": [
        {
          "output_type": "stream",
          "name": "stdout",
          "text": [
            "Archive:  /content/drive/MyDrive/CSIT1/covid_dataset.zip\n",
            "   creating: covid_dataset/\n",
            "   creating: covid_dataset/COVID/\n",
            "  inflating: covid_dataset/COVID/COVID-1.png  \n",
            "  inflating: covid_dataset/COVID/COVID-10.png  \n",
            "  inflating: covid_dataset/COVID/COVID-11.png  \n",
            "  inflating: covid_dataset/COVID/COVID-12.png  \n",
            "  inflating: covid_dataset/COVID/COVID-13.png  \n",
            "  inflating: covid_dataset/COVID/COVID-14.png  \n",
            "  inflating: covid_dataset/COVID/COVID-15.png  \n",
            "  inflating: covid_dataset/COVID/COVID-16.png  \n",
            "  inflating: covid_dataset/COVID/COVID-17.png  \n",
            "  inflating: covid_dataset/COVID/COVID-18.png  \n",
            "  inflating: covid_dataset/COVID/COVID-19.png  \n",
            "  inflating: covid_dataset/COVID/COVID-2.png  \n",
            "  inflating: covid_dataset/COVID/COVID-20.png  \n",
            "  inflating: covid_dataset/COVID/COVID-21.png  \n",
            "  inflating: covid_dataset/COVID/COVID-22.png  \n",
            "  inflating: covid_dataset/COVID/COVID-23.png  \n",
            "  inflating: covid_dataset/COVID/COVID-24.png  \n",
            "  inflating: covid_dataset/COVID/COVID-25.png  \n",
            "  inflating: covid_dataset/COVID/COVID-26.png  \n",
            "  inflating: covid_dataset/COVID/COVID-27.png  \n",
            "  inflating: covid_dataset/COVID/COVID-28.png  \n",
            "  inflating: covid_dataset/COVID/COVID-29.png  \n",
            "  inflating: covid_dataset/COVID/COVID-3.png  \n",
            "  inflating: covid_dataset/COVID/COVID-30.png  \n",
            "  inflating: covid_dataset/COVID/COVID-31.png  \n",
            "  inflating: covid_dataset/COVID/COVID-32.png  \n",
            "  inflating: covid_dataset/COVID/COVID-33.png  \n",
            "  inflating: covid_dataset/COVID/COVID-34.png  \n",
            "  inflating: covid_dataset/COVID/COVID-35.png  \n",
            "  inflating: covid_dataset/COVID/COVID-36.png  \n",
            "  inflating: covid_dataset/COVID/COVID-37.png  \n",
            "  inflating: covid_dataset/COVID/COVID-38.png  \n",
            "  inflating: covid_dataset/COVID/COVID-39.png  \n",
            "  inflating: covid_dataset/COVID/COVID-4.png  \n",
            "  inflating: covid_dataset/COVID/COVID-40.png  \n",
            "  inflating: covid_dataset/COVID/COVID-41.png  \n",
            "  inflating: covid_dataset/COVID/COVID-42.png  \n",
            "  inflating: covid_dataset/COVID/COVID-43.png  \n",
            "  inflating: covid_dataset/COVID/COVID-44.png  \n",
            "  inflating: covid_dataset/COVID/COVID-45.png  \n",
            "  inflating: covid_dataset/COVID/COVID-46.png  \n",
            "  inflating: covid_dataset/COVID/COVID-47.png  \n",
            "  inflating: covid_dataset/COVID/COVID-48.png  \n",
            "  inflating: covid_dataset/COVID/COVID-49.png  \n",
            "  inflating: covid_dataset/COVID/COVID-5.png  \n",
            "  inflating: covid_dataset/COVID/COVID-50.png  \n",
            "  inflating: covid_dataset/COVID/COVID-6.png  \n",
            "  inflating: covid_dataset/COVID/COVID-7.png  \n",
            "  inflating: covid_dataset/COVID/COVID-8.png  \n",
            "  inflating: covid_dataset/COVID/COVID-9.png  \n",
            "   creating: covid_dataset/Normal/\n",
            "  inflating: covid_dataset/Normal/Normal-1.png  \n",
            "  inflating: covid_dataset/Normal/Normal-10.png  \n",
            "  inflating: covid_dataset/Normal/Normal-11.png  \n",
            "  inflating: covid_dataset/Normal/Normal-12.png  \n",
            "  inflating: covid_dataset/Normal/Normal-13.png  \n",
            "  inflating: covid_dataset/Normal/Normal-14.png  \n",
            "  inflating: covid_dataset/Normal/Normal-15.png  \n",
            "  inflating: covid_dataset/Normal/Normal-16.png  \n",
            "  inflating: covid_dataset/Normal/Normal-17.png  \n",
            "  inflating: covid_dataset/Normal/Normal-18.png  \n",
            "  inflating: covid_dataset/Normal/Normal-19.png  \n",
            "  inflating: covid_dataset/Normal/Normal-2.png  \n",
            "  inflating: covid_dataset/Normal/Normal-20.png  \n",
            "  inflating: covid_dataset/Normal/Normal-21.png  \n",
            "  inflating: covid_dataset/Normal/Normal-22.png  \n",
            "  inflating: covid_dataset/Normal/Normal-23.png  \n",
            "  inflating: covid_dataset/Normal/Normal-24.png  \n",
            "  inflating: covid_dataset/Normal/Normal-25.png  \n",
            "  inflating: covid_dataset/Normal/Normal-26.png  \n",
            "  inflating: covid_dataset/Normal/Normal-27.png  \n",
            "  inflating: covid_dataset/Normal/Normal-28.png  \n",
            "  inflating: covid_dataset/Normal/Normal-29.png  \n",
            "  inflating: covid_dataset/Normal/Normal-3.png  \n",
            "  inflating: covid_dataset/Normal/Normal-30.png  \n",
            "  inflating: covid_dataset/Normal/Normal-31.png  \n",
            "  inflating: covid_dataset/Normal/Normal-32.png  \n",
            "  inflating: covid_dataset/Normal/Normal-33.png  \n",
            "  inflating: covid_dataset/Normal/Normal-34.png  \n",
            "  inflating: covid_dataset/Normal/Normal-35.png  \n",
            "  inflating: covid_dataset/Normal/Normal-36.png  \n",
            "  inflating: covid_dataset/Normal/Normal-37.png  \n",
            "  inflating: covid_dataset/Normal/Normal-38.png  \n",
            "  inflating: covid_dataset/Normal/Normal-39.png  \n",
            "  inflating: covid_dataset/Normal/Normal-4.png  \n",
            "  inflating: covid_dataset/Normal/Normal-40.png  \n",
            "  inflating: covid_dataset/Normal/Normal-41.png  \n",
            "  inflating: covid_dataset/Normal/Normal-42.png  \n",
            "  inflating: covid_dataset/Normal/Normal-43.png  \n",
            "  inflating: covid_dataset/Normal/Normal-44.png  \n",
            "  inflating: covid_dataset/Normal/Normal-45.png  \n",
            "  inflating: covid_dataset/Normal/Normal-46.png  \n",
            "  inflating: covid_dataset/Normal/Normal-47.png  \n",
            "  inflating: covid_dataset/Normal/Normal-48.png  \n",
            "  inflating: covid_dataset/Normal/Normal-49.png  \n",
            "  inflating: covid_dataset/Normal/Normal-5.png  \n",
            "  inflating: covid_dataset/Normal/Normal-50.png  \n",
            "  inflating: covid_dataset/Normal/Normal-6.png  \n",
            "  inflating: covid_dataset/Normal/Normal-7.png  \n",
            "  inflating: covid_dataset/Normal/Normal-8.png  \n",
            "  inflating: covid_dataset/Normal/Normal-9.png  \n",
            "   creating: covid_dataset/Viral Pneumonia/\n",
            "  inflating: covid_dataset/Viral Pneumonia/Viral Pneumonia-1.png  \n",
            "  inflating: covid_dataset/Viral Pneumonia/Viral Pneumonia-10.png  \n",
            "  inflating: covid_dataset/Viral Pneumonia/Viral Pneumonia-11.png  \n",
            "  inflating: covid_dataset/Viral Pneumonia/Viral Pneumonia-12.png  \n",
            "  inflating: covid_dataset/Viral Pneumonia/Viral Pneumonia-13.png  \n",
            "  inflating: covid_dataset/Viral Pneumonia/Viral Pneumonia-14.png  \n",
            "  inflating: covid_dataset/Viral Pneumonia/Viral Pneumonia-15.png  \n",
            "  inflating: covid_dataset/Viral Pneumonia/Viral Pneumonia-16.png  \n",
            "  inflating: covid_dataset/Viral Pneumonia/Viral Pneumonia-17.png  \n",
            "  inflating: covid_dataset/Viral Pneumonia/Viral Pneumonia-18.png  \n",
            "  inflating: covid_dataset/Viral Pneumonia/Viral Pneumonia-19.png  \n",
            "  inflating: covid_dataset/Viral Pneumonia/Viral Pneumonia-2.png  \n",
            "  inflating: covid_dataset/Viral Pneumonia/Viral Pneumonia-20.png  \n",
            "  inflating: covid_dataset/Viral Pneumonia/Viral Pneumonia-21.png  \n",
            "  inflating: covid_dataset/Viral Pneumonia/Viral Pneumonia-22.png  \n",
            "  inflating: covid_dataset/Viral Pneumonia/Viral Pneumonia-23.png  \n",
            "  inflating: covid_dataset/Viral Pneumonia/Viral Pneumonia-24.png  \n",
            "  inflating: covid_dataset/Viral Pneumonia/Viral Pneumonia-25.png  \n",
            "  inflating: covid_dataset/Viral Pneumonia/Viral Pneumonia-26.png  \n",
            "  inflating: covid_dataset/Viral Pneumonia/Viral Pneumonia-27.png  \n",
            "  inflating: covid_dataset/Viral Pneumonia/Viral Pneumonia-28.png  \n",
            "  inflating: covid_dataset/Viral Pneumonia/Viral Pneumonia-29.png  \n",
            "  inflating: covid_dataset/Viral Pneumonia/Viral Pneumonia-3.png  \n",
            "  inflating: covid_dataset/Viral Pneumonia/Viral Pneumonia-30.png  \n",
            "  inflating: covid_dataset/Viral Pneumonia/Viral Pneumonia-31.png  \n",
            "  inflating: covid_dataset/Viral Pneumonia/Viral Pneumonia-32.png  \n",
            "  inflating: covid_dataset/Viral Pneumonia/Viral Pneumonia-33.png  \n",
            "  inflating: covid_dataset/Viral Pneumonia/Viral Pneumonia-34.png  \n",
            "  inflating: covid_dataset/Viral Pneumonia/Viral Pneumonia-35.png  \n",
            "  inflating: covid_dataset/Viral Pneumonia/Viral Pneumonia-36.png  \n",
            "  inflating: covid_dataset/Viral Pneumonia/Viral Pneumonia-37.png  \n",
            "  inflating: covid_dataset/Viral Pneumonia/Viral Pneumonia-38.png  \n",
            "  inflating: covid_dataset/Viral Pneumonia/Viral Pneumonia-39.png  \n",
            "  inflating: covid_dataset/Viral Pneumonia/Viral Pneumonia-4.png  \n",
            "  inflating: covid_dataset/Viral Pneumonia/Viral Pneumonia-40.png  \n",
            "  inflating: covid_dataset/Viral Pneumonia/Viral Pneumonia-41.png  \n",
            "  inflating: covid_dataset/Viral Pneumonia/Viral Pneumonia-42.png  \n",
            "  inflating: covid_dataset/Viral Pneumonia/Viral Pneumonia-43.png  \n",
            "  inflating: covid_dataset/Viral Pneumonia/Viral Pneumonia-44.png  \n",
            "  inflating: covid_dataset/Viral Pneumonia/Viral Pneumonia-45.png  \n",
            "  inflating: covid_dataset/Viral Pneumonia/Viral Pneumonia-46.png  \n",
            "  inflating: covid_dataset/Viral Pneumonia/Viral Pneumonia-47.png  \n",
            "  inflating: covid_dataset/Viral Pneumonia/Viral Pneumonia-48.png  \n",
            "  inflating: covid_dataset/Viral Pneumonia/Viral Pneumonia-49.png  \n",
            "  inflating: covid_dataset/Viral Pneumonia/Viral Pneumonia-5.png  \n",
            "  inflating: covid_dataset/Viral Pneumonia/Viral Pneumonia-50.png  \n",
            "  inflating: covid_dataset/Viral Pneumonia/Viral Pneumonia-6.png  \n",
            "  inflating: covid_dataset/Viral Pneumonia/Viral Pneumonia-7.png  \n",
            "  inflating: covid_dataset/Viral Pneumonia/Viral Pneumonia-8.png  \n",
            "  inflating: covid_dataset/Viral Pneumonia/Viral Pneumonia-9.png  \n"
          ]
        }
      ]
    },
    {
      "cell_type": "markdown",
      "metadata": {
        "id": "xvuRmzA0tNw0"
      },
      "source": [
        "**4. Install split folder python package**\n",
        "\n",
        "https://pypi.org/project/split-folders/"
      ]
    },
    {
      "cell_type": "code",
      "metadata": {
        "id": "r-4b_r2qlenB",
        "colab": {
          "base_uri": "https://localhost:8080/"
        },
        "outputId": "8127cbbe-a0fb-4ae4-b254-5018c51beed0"
      },
      "source": [
        "!pip install split_folders"
      ],
      "execution_count": 7,
      "outputs": [
        {
          "output_type": "stream",
          "name": "stdout",
          "text": [
            "Collecting split_folders\n",
            "  Downloading split_folders-0.5.1-py3-none-any.whl (8.4 kB)\n",
            "Installing collected packages: split_folders\n",
            "Successfully installed split_folders-0.5.1\n"
          ]
        }
      ]
    },
    {
      "cell_type": "markdown",
      "metadata": {
        "id": "yq0KuuUatVi-"
      },
      "source": [
        "**5. Splitting the data in training, testing and validation set**"
      ]
    },
    {
      "cell_type": "code",
      "metadata": {
        "id": "8xXGHVOIlheA",
        "colab": {
          "base_uri": "https://localhost:8080/"
        },
        "outputId": "75f6950b-ede5-4363-c4c2-deece19d1fea"
      },
      "source": [
        "import splitfolders\n",
        "splitfolders.ratio(\"covid_dataset\", output=\"split\", seed=1337, ratio=(.8, .1, .1), group_prefix=None)"
      ],
      "execution_count": 8,
      "outputs": [
        {
          "output_type": "stream",
          "name": "stderr",
          "text": [
            "Copying files: 150 files [00:00, 4629.51 files/s]\n"
          ]
        }
      ]
    },
    {
      "cell_type": "code",
      "source": [
        "import splitfolders\n",
        "splitfolders.ratio(\"covid_dataset\", output=\"split\", seed=1337, ratio=(.8, .1, .1), group_prefix=None)"
      ],
      "metadata": {
        "colab": {
          "base_uri": "https://localhost:8080/"
        },
        "id": "YlqeXzb0AXtS",
        "outputId": "340d91d9-7bf6-41a5-9b3e-1719b0abe871"
      },
      "execution_count": 9,
      "outputs": [
        {
          "output_type": "stream",
          "name": "stderr",
          "text": [
            "Copying files: 150 files [00:00, 4397.53 files/s]\n"
          ]
        }
      ]
    },
    {
      "cell_type": "markdown",
      "metadata": {
        "id": "4_rTBEKCtaTR"
      },
      "source": [
        "**6. Loading the dataset with normalization in batches**"
      ]
    },
    {
      "cell_type": "code",
      "metadata": {
        "id": "4of-TiQPlkCZ",
        "colab": {
          "base_uri": "https://localhost:8080/"
        },
        "outputId": "209ac65e-0666-415c-c0f0-79e8cd1cb0b9"
      },
      "source": [
        "from keras.preprocessing.image import ImageDataGenerator\n",
        "\n",
        "# Normalize training and validation data in the range of 0 to 1\n",
        "train_datagen = ImageDataGenerator(rescale=1./255)\n",
        "validation_datagen = ImageDataGenerator(rescale=1./255)\n",
        "test_datagen = ImageDataGenerator(rescale=1./255)\n",
        "\n",
        "# Read the training sample and set the batch size\n",
        "train_generator = train_datagen.flow_from_directory(\n",
        "        'split/train/',\n",
        "        target_size=(128, 128),\n",
        "        batch_size=8,\n",
        "        seed=100,\n",
        "        class_mode='categorical')\n",
        "\n",
        "# Read Validation data from directory and define target size with batch size\n",
        "validation_generator = validation_datagen.flow_from_directory(\n",
        "        'split/val/',\n",
        "        target_size=(128, 128),\n",
        "        batch_size=8,\n",
        "        class_mode='categorical',\n",
        "        seed=1000,\n",
        "        shuffle=False)\n",
        "\n",
        "test_generator = test_datagen.flow_from_directory(\n",
        "        'split/test/',\n",
        "        target_size=(128, 128),\n",
        "        batch_size=8,\n",
        "        seed=500,\n",
        "        class_mode='categorical',\n",
        "        shuffle=False)"
      ],
      "execution_count": 10,
      "outputs": [
        {
          "output_type": "stream",
          "name": "stdout",
          "text": [
            "Found 120 images belonging to 3 classes.\n",
            "Found 15 images belonging to 3 classes.\n",
            "Found 15 images belonging to 3 classes.\n"
          ]
        }
      ]
    },
    {
      "cell_type": "markdown",
      "metadata": {
        "id": "ZqmlFmyitf8O"
      },
      "source": [
        "**7. Model Building**"
      ]
    },
    {
      "cell_type": "code",
      "metadata": {
        "id": "RrA7f0eKl4tH",
        "colab": {
          "base_uri": "https://localhost:8080/"
        },
        "outputId": "4a1a3692-7bc5-441c-d0e8-e775acefec40"
      },
      "source": [
        "from tensorflow import keras\n",
        "from tensorflow.keras import layers\n",
        "inputs = keras.Input(shape=(128, 128,3))\n",
        "x = layers.Flatten()(inputs)\n",
        "x = layers.Dense(16, activation=\"relu\")(x)\n",
        "x = layers.Dense(16, activation=\"relu\")(x)\n",
        "x = layers.Dense(32, activation=\"relu\")(x)\n",
        "outputs = layers.Dense(3, activation=\"softmax\")(x)\n",
        "model = keras.Model(inputs, outputs)\n",
        "model.summary()"
      ],
      "execution_count": 39,
      "outputs": [
        {
          "output_type": "stream",
          "name": "stdout",
          "text": [
            "Model: \"model_3\"\n",
            "_________________________________________________________________\n",
            " Layer (type)                Output Shape              Param #   \n",
            "=================================================================\n",
            " input_4 (InputLayer)        [(None, 128, 128, 3)]     0         \n",
            "                                                                 \n",
            " flatten_3 (Flatten)         (None, 49152)             0         \n",
            "                                                                 \n",
            " dense_12 (Dense)            (None, 16)                786448    \n",
            "                                                                 \n",
            " dense_13 (Dense)            (None, 16)                272       \n",
            "                                                                 \n",
            " dense_14 (Dense)            (None, 32)                544       \n",
            "                                                                 \n",
            " dense_15 (Dense)            (None, 3)                 99        \n",
            "                                                                 \n",
            "=================================================================\n",
            "Total params: 787363 (3.00 MB)\n",
            "Trainable params: 787363 (3.00 MB)\n",
            "Non-trainable params: 0 (0.00 Byte)\n",
            "_________________________________________________________________\n"
          ]
        }
      ]
    },
    {
      "cell_type": "markdown",
      "metadata": {
        "id": "_437haxhtjFa"
      },
      "source": [
        "**8. Model Compilation and Training**"
      ]
    },
    {
      "cell_type": "code",
      "metadata": {
        "id": "DixxjVJelrcg",
        "colab": {
          "base_uri": "https://localhost:8080/"
        },
        "outputId": "9561d2e9-3fce-4d9f-933d-f073baaf2d02"
      },
      "source": [
        "from tensorflow.keras.optimizers import Adam\n",
        "\n",
        "adam = Adam(learning_rate=0.0001)\n",
        "# We are going to use accuracy metrics and cross entropy loss as performance parameters\n",
        "model.compile(adam, loss='categorical_crossentropy', metrics=['acc'])\n",
        "# Train the model\n",
        "history = model.fit(train_generator,\n",
        "      steps_per_epoch=train_generator.samples/train_generator.batch_size,\n",
        "      epochs=100,\n",
        "      validation_data=validation_generator,\n",
        "      validation_steps=validation_generator.samples/validation_generator.batch_size,\n",
        "      verbose=1)"
      ],
      "execution_count": 40,
      "outputs": [
        {
          "output_type": "stream",
          "name": "stdout",
          "text": [
            "Epoch 1/100\n",
            "15/15 [==============================] - 2s 35ms/step - loss: 1.1200 - acc: 0.3417 - val_loss: 0.9406 - val_acc: 0.8667\n",
            "Epoch 2/100\n",
            "15/15 [==============================] - 0s 24ms/step - loss: 0.9492 - acc: 0.4833 - val_loss: 1.0056 - val_acc: 0.4000\n",
            "Epoch 3/100\n",
            "15/15 [==============================] - 0s 24ms/step - loss: 0.8762 - acc: 0.5750 - val_loss: 0.8286 - val_acc: 0.6667\n",
            "Epoch 4/100\n",
            "15/15 [==============================] - 0s 26ms/step - loss: 0.8482 - acc: 0.5667 - val_loss: 0.9979 - val_acc: 0.3333\n",
            "Epoch 5/100\n",
            "15/15 [==============================] - 0s 23ms/step - loss: 0.9065 - acc: 0.4667 - val_loss: 0.7772 - val_acc: 0.6667\n",
            "Epoch 6/100\n",
            "15/15 [==============================] - 0s 24ms/step - loss: 0.7942 - acc: 0.6083 - val_loss: 0.8164 - val_acc: 0.5333\n",
            "Epoch 7/100\n",
            "15/15 [==============================] - 0s 24ms/step - loss: 0.7668 - acc: 0.5917 - val_loss: 0.7822 - val_acc: 0.6667\n",
            "Epoch 8/100\n",
            "15/15 [==============================] - 0s 25ms/step - loss: 0.7481 - acc: 0.5667 - val_loss: 0.7771 - val_acc: 0.6667\n",
            "Epoch 9/100\n",
            "15/15 [==============================] - 0s 24ms/step - loss: 0.7357 - acc: 0.5833 - val_loss: 0.7590 - val_acc: 0.6667\n",
            "Epoch 10/100\n",
            "15/15 [==============================] - 0s 25ms/step - loss: 0.7235 - acc: 0.6167 - val_loss: 0.7881 - val_acc: 0.5333\n",
            "Epoch 11/100\n",
            "15/15 [==============================] - 0s 24ms/step - loss: 0.7138 - acc: 0.5667 - val_loss: 0.7447 - val_acc: 0.6667\n",
            "Epoch 12/100\n",
            "15/15 [==============================] - 0s 24ms/step - loss: 0.6990 - acc: 0.6167 - val_loss: 0.7157 - val_acc: 0.6667\n",
            "Epoch 13/100\n",
            "15/15 [==============================] - 0s 25ms/step - loss: 0.6967 - acc: 0.6333 - val_loss: 0.7101 - val_acc: 0.6667\n",
            "Epoch 14/100\n",
            "15/15 [==============================] - 0s 24ms/step - loss: 0.6786 - acc: 0.6333 - val_loss: 0.7326 - val_acc: 0.6667\n",
            "Epoch 15/100\n",
            "15/15 [==============================] - 0s 26ms/step - loss: 0.6704 - acc: 0.6250 - val_loss: 0.7017 - val_acc: 0.6667\n",
            "Epoch 16/100\n",
            "15/15 [==============================] - 0s 25ms/step - loss: 0.6620 - acc: 0.6417 - val_loss: 0.7234 - val_acc: 0.6000\n",
            "Epoch 17/100\n",
            "15/15 [==============================] - 0s 25ms/step - loss: 0.6520 - acc: 0.6417 - val_loss: 0.6913 - val_acc: 0.6667\n",
            "Epoch 18/100\n",
            "15/15 [==============================] - 0s 24ms/step - loss: 0.6435 - acc: 0.6500 - val_loss: 0.6882 - val_acc: 0.6667\n",
            "Epoch 19/100\n",
            "15/15 [==============================] - 0s 25ms/step - loss: 0.6369 - acc: 0.6417 - val_loss: 0.6487 - val_acc: 0.6667\n",
            "Epoch 20/100\n",
            "15/15 [==============================] - 1s 36ms/step - loss: 0.6367 - acc: 0.6500 - val_loss: 0.6694 - val_acc: 0.6667\n",
            "Epoch 21/100\n",
            "15/15 [==============================] - 1s 34ms/step - loss: 0.6273 - acc: 0.6417 - val_loss: 0.6578 - val_acc: 0.6667\n",
            "Epoch 22/100\n",
            "15/15 [==============================] - 1s 41ms/step - loss: 0.6166 - acc: 0.6500 - val_loss: 0.6602 - val_acc: 0.6667\n",
            "Epoch 23/100\n",
            "15/15 [==============================] - 1s 36ms/step - loss: 0.6144 - acc: 0.6500 - val_loss: 0.6652 - val_acc: 0.6000\n",
            "Epoch 24/100\n",
            "15/15 [==============================] - 1s 41ms/step - loss: 0.6069 - acc: 0.6500 - val_loss: 0.6762 - val_acc: 0.6000\n",
            "Epoch 25/100\n",
            "15/15 [==============================] - 0s 26ms/step - loss: 0.5992 - acc: 0.6500 - val_loss: 0.6444 - val_acc: 0.6667\n",
            "Epoch 26/100\n",
            "15/15 [==============================] - 1s 38ms/step - loss: 0.5899 - acc: 0.6500 - val_loss: 0.6198 - val_acc: 0.6667\n",
            "Epoch 27/100\n",
            "15/15 [==============================] - 1s 36ms/step - loss: 0.5936 - acc: 0.6500 - val_loss: 0.6276 - val_acc: 0.6667\n",
            "Epoch 28/100\n",
            "15/15 [==============================] - 1s 40ms/step - loss: 0.5858 - acc: 0.6417 - val_loss: 0.6637 - val_acc: 0.6000\n",
            "Epoch 29/100\n",
            "15/15 [==============================] - 1s 37ms/step - loss: 0.5796 - acc: 0.6500 - val_loss: 0.6205 - val_acc: 0.6667\n",
            "Epoch 30/100\n",
            "15/15 [==============================] - 1s 37ms/step - loss: 0.5701 - acc: 0.6500 - val_loss: 0.6391 - val_acc: 0.6000\n",
            "Epoch 31/100\n",
            "15/15 [==============================] - 0s 29ms/step - loss: 0.5773 - acc: 0.6500 - val_loss: 0.6085 - val_acc: 0.6667\n",
            "Epoch 32/100\n",
            "15/15 [==============================] - 0s 25ms/step - loss: 0.5625 - acc: 0.6500 - val_loss: 0.6076 - val_acc: 0.6667\n",
            "Epoch 33/100\n",
            "15/15 [==============================] - 0s 25ms/step - loss: 0.5648 - acc: 0.6667 - val_loss: 0.5975 - val_acc: 0.6667\n",
            "Epoch 34/100\n",
            "15/15 [==============================] - 0s 25ms/step - loss: 0.5627 - acc: 0.6583 - val_loss: 0.6280 - val_acc: 0.6000\n",
            "Epoch 35/100\n",
            "15/15 [==============================] - 0s 25ms/step - loss: 0.5675 - acc: 0.6500 - val_loss: 0.5875 - val_acc: 0.6667\n",
            "Epoch 36/100\n",
            "15/15 [==============================] - 0s 25ms/step - loss: 0.5552 - acc: 0.6583 - val_loss: 0.6225 - val_acc: 0.6000\n",
            "Epoch 37/100\n",
            "15/15 [==============================] - 0s 25ms/step - loss: 0.5445 - acc: 0.6500 - val_loss: 0.6342 - val_acc: 0.6000\n",
            "Epoch 38/100\n",
            "15/15 [==============================] - 0s 24ms/step - loss: 0.5485 - acc: 0.6583 - val_loss: 0.5836 - val_acc: 0.6000\n",
            "Epoch 39/100\n",
            "15/15 [==============================] - 0s 25ms/step - loss: 0.5422 - acc: 0.6500 - val_loss: 0.5909 - val_acc: 0.6000\n",
            "Epoch 40/100\n",
            "15/15 [==============================] - 0s 24ms/step - loss: 0.5319 - acc: 0.6750 - val_loss: 0.5997 - val_acc: 0.6000\n",
            "Epoch 41/100\n",
            "15/15 [==============================] - 0s 23ms/step - loss: 0.5253 - acc: 0.6667 - val_loss: 0.5913 - val_acc: 0.6000\n",
            "Epoch 42/100\n",
            "15/15 [==============================] - 1s 41ms/step - loss: 0.5296 - acc: 0.6667 - val_loss: 0.6054 - val_acc: 0.6000\n",
            "Epoch 43/100\n",
            "15/15 [==============================] - 1s 35ms/step - loss: 0.5251 - acc: 0.6750 - val_loss: 0.6179 - val_acc: 0.6000\n",
            "Epoch 44/100\n",
            "15/15 [==============================] - 1s 36ms/step - loss: 0.5234 - acc: 0.6667 - val_loss: 0.5644 - val_acc: 0.6667\n",
            "Epoch 45/100\n",
            "15/15 [==============================] - 1s 38ms/step - loss: 0.5192 - acc: 0.6583 - val_loss: 0.5945 - val_acc: 0.6000\n",
            "Epoch 46/100\n",
            "15/15 [==============================] - 1s 44ms/step - loss: 0.5231 - acc: 0.6583 - val_loss: 0.6529 - val_acc: 0.5333\n",
            "Epoch 47/100\n",
            "15/15 [==============================] - 0s 24ms/step - loss: 0.5161 - acc: 0.6667 - val_loss: 0.5953 - val_acc: 0.6000\n",
            "Epoch 48/100\n",
            "15/15 [==============================] - 0s 26ms/step - loss: 0.5091 - acc: 0.6750 - val_loss: 0.5643 - val_acc: 0.6667\n",
            "Epoch 49/100\n",
            "15/15 [==============================] - 0s 26ms/step - loss: 0.5068 - acc: 0.6667 - val_loss: 0.5711 - val_acc: 0.6000\n",
            "Epoch 50/100\n",
            "15/15 [==============================] - 0s 26ms/step - loss: 0.5067 - acc: 0.6667 - val_loss: 0.6342 - val_acc: 0.5333\n",
            "Epoch 51/100\n",
            "15/15 [==============================] - 0s 25ms/step - loss: 0.4970 - acc: 0.7167 - val_loss: 0.5477 - val_acc: 0.6000\n",
            "Epoch 52/100\n",
            "15/15 [==============================] - 0s 26ms/step - loss: 0.5038 - acc: 0.6583 - val_loss: 0.5738 - val_acc: 0.6000\n",
            "Epoch 53/100\n",
            "15/15 [==============================] - 0s 24ms/step - loss: 0.5191 - acc: 0.7000 - val_loss: 0.6499 - val_acc: 0.6000\n",
            "Epoch 54/100\n",
            "15/15 [==============================] - 0s 24ms/step - loss: 0.5052 - acc: 0.6917 - val_loss: 0.6214 - val_acc: 0.5333\n",
            "Epoch 55/100\n",
            "15/15 [==============================] - 0s 26ms/step - loss: 0.5027 - acc: 0.7167 - val_loss: 0.5375 - val_acc: 0.6667\n",
            "Epoch 56/100\n",
            "15/15 [==============================] - 0s 24ms/step - loss: 0.4912 - acc: 0.6833 - val_loss: 0.5861 - val_acc: 0.6000\n",
            "Epoch 57/100\n",
            "15/15 [==============================] - 0s 26ms/step - loss: 0.4901 - acc: 0.6583 - val_loss: 0.6087 - val_acc: 0.5333\n",
            "Epoch 58/100\n",
            "15/15 [==============================] - 0s 25ms/step - loss: 0.4946 - acc: 0.7167 - val_loss: 0.5092 - val_acc: 0.6667\n",
            "Epoch 59/100\n",
            "15/15 [==============================] - 0s 25ms/step - loss: 0.4858 - acc: 0.6917 - val_loss: 0.5804 - val_acc: 0.6000\n",
            "Epoch 60/100\n",
            "15/15 [==============================] - 0s 25ms/step - loss: 0.4858 - acc: 0.6750 - val_loss: 0.5762 - val_acc: 0.6000\n",
            "Epoch 61/100\n",
            "15/15 [==============================] - 0s 25ms/step - loss: 0.4748 - acc: 0.6917 - val_loss: 0.5880 - val_acc: 0.5333\n",
            "Epoch 62/100\n",
            "15/15 [==============================] - 0s 24ms/step - loss: 0.4833 - acc: 0.7417 - val_loss: 0.5312 - val_acc: 0.7333\n",
            "Epoch 63/100\n",
            "15/15 [==============================] - 0s 25ms/step - loss: 0.4771 - acc: 0.6833 - val_loss: 0.5431 - val_acc: 0.6000\n",
            "Epoch 64/100\n",
            "15/15 [==============================] - 0s 26ms/step - loss: 0.4738 - acc: 0.7333 - val_loss: 0.5818 - val_acc: 0.6667\n",
            "Epoch 65/100\n",
            "15/15 [==============================] - 0s 24ms/step - loss: 0.4774 - acc: 0.7000 - val_loss: 0.5707 - val_acc: 0.6000\n",
            "Epoch 66/100\n",
            "15/15 [==============================] - 0s 25ms/step - loss: 0.4671 - acc: 0.7667 - val_loss: 0.5834 - val_acc: 0.6000\n",
            "Epoch 67/100\n",
            "15/15 [==============================] - 0s 24ms/step - loss: 0.4617 - acc: 0.7167 - val_loss: 0.5004 - val_acc: 0.6667\n",
            "Epoch 68/100\n",
            "15/15 [==============================] - 0s 25ms/step - loss: 0.4644 - acc: 0.7167 - val_loss: 0.6292 - val_acc: 0.5333\n",
            "Epoch 69/100\n",
            "15/15 [==============================] - 1s 40ms/step - loss: 0.4664 - acc: 0.7333 - val_loss: 0.5140 - val_acc: 0.8000\n",
            "Epoch 70/100\n",
            "15/15 [==============================] - 1s 38ms/step - loss: 0.4574 - acc: 0.7167 - val_loss: 0.5747 - val_acc: 0.6000\n",
            "Epoch 71/100\n",
            "15/15 [==============================] - 1s 42ms/step - loss: 0.4591 - acc: 0.7250 - val_loss: 0.5730 - val_acc: 0.7333\n",
            "Epoch 72/100\n",
            "15/15 [==============================] - 1s 37ms/step - loss: 0.4792 - acc: 0.7250 - val_loss: 0.6187 - val_acc: 0.6000\n",
            "Epoch 73/100\n",
            "15/15 [==============================] - 1s 43ms/step - loss: 0.4536 - acc: 0.7250 - val_loss: 0.5458 - val_acc: 0.7333\n",
            "Epoch 74/100\n",
            "15/15 [==============================] - 0s 24ms/step - loss: 0.4490 - acc: 0.7417 - val_loss: 0.5350 - val_acc: 0.7333\n",
            "Epoch 75/100\n",
            "15/15 [==============================] - 0s 24ms/step - loss: 0.4494 - acc: 0.7500 - val_loss: 0.5943 - val_acc: 0.5333\n",
            "Epoch 76/100\n",
            "15/15 [==============================] - 0s 24ms/step - loss: 0.4457 - acc: 0.7167 - val_loss: 0.5613 - val_acc: 0.6667\n",
            "Epoch 77/100\n",
            "15/15 [==============================] - 0s 26ms/step - loss: 0.4413 - acc: 0.7417 - val_loss: 0.5480 - val_acc: 0.6667\n",
            "Epoch 78/100\n",
            "15/15 [==============================] - 0s 25ms/step - loss: 0.4368 - acc: 0.7500 - val_loss: 0.5147 - val_acc: 0.8000\n",
            "Epoch 79/100\n",
            "15/15 [==============================] - 0s 26ms/step - loss: 0.4431 - acc: 0.7333 - val_loss: 0.4844 - val_acc: 0.8000\n",
            "Epoch 80/100\n",
            "15/15 [==============================] - 0s 24ms/step - loss: 0.4367 - acc: 0.7667 - val_loss: 0.5543 - val_acc: 0.6000\n",
            "Epoch 81/100\n",
            "15/15 [==============================] - 0s 24ms/step - loss: 0.4381 - acc: 0.7417 - val_loss: 0.5307 - val_acc: 0.7333\n",
            "Epoch 82/100\n",
            "15/15 [==============================] - 0s 26ms/step - loss: 0.4289 - acc: 0.7417 - val_loss: 0.5280 - val_acc: 0.6667\n",
            "Epoch 83/100\n",
            "15/15 [==============================] - 0s 23ms/step - loss: 0.4268 - acc: 0.7667 - val_loss: 0.4906 - val_acc: 0.7333\n",
            "Epoch 84/100\n",
            "15/15 [==============================] - 0s 26ms/step - loss: 0.4358 - acc: 0.7667 - val_loss: 0.5209 - val_acc: 0.7333\n",
            "Epoch 85/100\n",
            "15/15 [==============================] - 0s 24ms/step - loss: 0.4294 - acc: 0.7750 - val_loss: 0.6060 - val_acc: 0.6000\n",
            "Epoch 86/100\n",
            "15/15 [==============================] - 0s 26ms/step - loss: 0.4364 - acc: 0.7667 - val_loss: 0.4763 - val_acc: 0.8000\n",
            "Epoch 87/100\n",
            "15/15 [==============================] - 0s 25ms/step - loss: 0.4270 - acc: 0.7833 - val_loss: 0.5316 - val_acc: 0.6667\n",
            "Epoch 88/100\n",
            "15/15 [==============================] - 0s 25ms/step - loss: 0.4175 - acc: 0.7583 - val_loss: 0.5876 - val_acc: 0.6000\n",
            "Epoch 89/100\n",
            "15/15 [==============================] - 0s 24ms/step - loss: 0.4166 - acc: 0.7750 - val_loss: 0.5025 - val_acc: 0.8000\n",
            "Epoch 90/100\n",
            "15/15 [==============================] - 0s 24ms/step - loss: 0.4110 - acc: 0.7833 - val_loss: 0.5466 - val_acc: 0.6667\n",
            "Epoch 91/100\n",
            "15/15 [==============================] - 0s 24ms/step - loss: 0.4053 - acc: 0.7833 - val_loss: 0.5418 - val_acc: 0.6667\n",
            "Epoch 92/100\n",
            "15/15 [==============================] - 0s 24ms/step - loss: 0.4026 - acc: 0.7833 - val_loss: 0.5301 - val_acc: 0.6667\n",
            "Epoch 93/100\n",
            "15/15 [==============================] - 0s 25ms/step - loss: 0.3999 - acc: 0.7833 - val_loss: 0.5504 - val_acc: 0.7333\n",
            "Epoch 94/100\n",
            "15/15 [==============================] - 0s 24ms/step - loss: 0.4010 - acc: 0.7750 - val_loss: 0.5595 - val_acc: 0.6667\n",
            "Epoch 95/100\n",
            "15/15 [==============================] - 1s 35ms/step - loss: 0.3995 - acc: 0.7583 - val_loss: 0.5424 - val_acc: 0.6667\n",
            "Epoch 96/100\n",
            "15/15 [==============================] - 1s 40ms/step - loss: 0.4116 - acc: 0.8500 - val_loss: 0.5387 - val_acc: 0.7333\n",
            "Epoch 97/100\n",
            "15/15 [==============================] - 1s 43ms/step - loss: 0.3988 - acc: 0.7583 - val_loss: 0.5342 - val_acc: 0.6667\n",
            "Epoch 98/100\n",
            "15/15 [==============================] - 1s 40ms/step - loss: 0.4125 - acc: 0.8000 - val_loss: 0.6403 - val_acc: 0.5333\n",
            "Epoch 99/100\n",
            "15/15 [==============================] - 1s 39ms/step - loss: 0.4045 - acc: 0.7917 - val_loss: 0.5496 - val_acc: 0.7333\n",
            "Epoch 100/100\n",
            "15/15 [==============================] - 0s 25ms/step - loss: 0.3911 - acc: 0.8500 - val_loss: 0.5718 - val_acc: 0.6667\n"
          ]
        }
      ]
    },
    {
      "cell_type": "markdown",
      "metadata": {
        "id": "7h2kqqa0tpx9"
      },
      "source": [
        "**9. Model saving**"
      ]
    },
    {
      "cell_type": "code",
      "metadata": {
        "id": "AMlZWxBhnfjh"
      },
      "source": [
        "model.save('covid_classification.h5')"
      ],
      "execution_count": 41,
      "outputs": []
    },
    {
      "cell_type": "markdown",
      "metadata": {
        "id": "v64VrifGtsSn"
      },
      "source": [
        "**10. Model loading**"
      ]
    },
    {
      "cell_type": "code",
      "metadata": {
        "id": "h5kAXwzBoIzp"
      },
      "source": [
        "from tensorflow.keras import models\n",
        "model = models.load_model('covid_classification.h5')"
      ],
      "execution_count": 42,
      "outputs": []
    },
    {
      "cell_type": "markdown",
      "metadata": {
        "id": "EuGiWfjQtvDq"
      },
      "source": [
        "**11. Model weights saving**"
      ]
    },
    {
      "cell_type": "code",
      "metadata": {
        "id": "brmKRhGtoZVA"
      },
      "source": [
        "model.save_weights('covid_classification_weights.h5')"
      ],
      "execution_count": 43,
      "outputs": []
    },
    {
      "cell_type": "markdown",
      "metadata": {
        "id": "g_mHfakptxUF"
      },
      "source": [
        "**12. Model weights loading**"
      ]
    },
    {
      "cell_type": "code",
      "metadata": {
        "id": "Oc3YG_vioL9a"
      },
      "source": [
        "model.load_weights('covid_classification_weights.h5')"
      ],
      "execution_count": 44,
      "outputs": []
    },
    {
      "cell_type": "markdown",
      "metadata": {
        "id": "YJhgz0AAtzcm"
      },
      "source": [
        "**13. Plotting accuracy and loss graph for training and validation dataset**"
      ]
    },
    {
      "cell_type": "code",
      "metadata": {
        "id": "lKLbBshSocU6"
      },
      "source": [
        "train_acc = history.history['acc']\n",
        "val_acc = history.history['val_acc']\n",
        "train_loss = history.history['loss']\n",
        "val_loss = history.history['val_loss']"
      ],
      "execution_count": 45,
      "outputs": []
    },
    {
      "cell_type": "code",
      "metadata": {
        "id": "BfqOqEpVogvN",
        "colab": {
          "base_uri": "https://localhost:8080/",
          "height": 904
        },
        "outputId": "0033c79a-a99c-4402-f215-9eb9119f6649"
      },
      "source": [
        "import matplotlib.pyplot as plt\n",
        "epochs = range(len(train_acc))\n",
        "plt.plot(epochs, train_acc, 'b', label='Training Accuracy')\n",
        "plt.plot(epochs, val_acc, 'r', label='Validation Accuracy')\n",
        "plt.title('Training and Validation Accuracy')\n",
        "plt.legend()\n",
        "plt.figure()\n",
        "plt.show()\n",
        "\n",
        "plt.plot(epochs, train_loss, 'b', label='Training Loss')\n",
        "plt.plot(epochs, val_loss, 'r', label='Validation Loss')\n",
        "plt.title('Training and Validation Loss')\n",
        "plt.legend()\n",
        "plt.show()\n"
      ],
      "execution_count": 46,
      "outputs": [
        {
          "output_type": "display_data",
          "data": {
            "text/plain": [
              "<Figure size 640x480 with 1 Axes>"
            ],
            "image/png": "[encoded data removed]"
          },
          "metadata": {}
        },
        {
          "output_type": "display_data",
          "data": {
            "text/plain": [
              "<Figure size 640x480 with 0 Axes>"
            ]
          },
          "metadata": {}
        },
        {
          "output_type": "display_data",
          "data": {
            "text/plain": [
              "<Figure size 640x480 with 1 Axes>"
            ],
            "image/png": "[encoded data removed]"
          },
          "metadata": {}
        }
      ]
    },
    {
      "cell_type": "markdown",
      "metadata": {
        "id": "LoVhONtnt3sq"
      },
      "source": [
        "**14. Evaluate model performance on test dataset**"
      ]
    },
    {
      "cell_type": "code",
      "metadata": {
        "id": "dxXMTffHoiVy",
        "colab": {
          "base_uri": "https://localhost:8080/"
        },
        "outputId": "0b873d3f-8d50-4760-85de-217584f8431b"
      },
      "source": [
        "test_output= model.evaluate(test_generator, steps=test_generator.samples/test_generator.batch_size, verbose=1)\n",
        "print(test_output)\n",
        "print(model.metrics_names)"
      ],
      "execution_count": 47,
      "outputs": [
        {
          "output_type": "stream",
          "name": "stdout",
          "text": [
            "1/1 [==============================] - 0s 19ms/step - loss: 0.5954 - acc: 0.8000\n",
            "[0.5954084396362305, 0.800000011920929]\n",
            "['loss', 'acc']\n"
          ]
        }
      ]
    },
    {
      "cell_type": "code",
      "source": [],
      "metadata": {
        "id": "pvx8AnlQKIrF"
      },
      "execution_count": null,
      "outputs": []
    },
    {
      "cell_type": "markdown",
      "metadata": {
        "id": "inzAGua1o1we"
      },
      "source": [
        "References:\n",
        "\n",
        "1. https://pypi.org/project/split-folders/\n",
        "2. https://keras.io/"
      ]
    }
  ]
}